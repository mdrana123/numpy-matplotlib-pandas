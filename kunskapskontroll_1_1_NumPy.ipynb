{
 "cells": [
  {
   "cell_type": "markdown",
   "id": "dacf74e6",
   "metadata": {},
   "source": [
    "# NumPy"
   ]
  },
  {
   "cell_type": "markdown",
   "id": "01b2bf34",
   "metadata": {},
   "source": [
    "Read the links: https://numpy.org/doc/stable/user/quickstart.html  and https://numpy.org/doc/stable/user/basics.broadcasting.html  before solving the exercises. "
   ]
  },
  {
   "cell_type": "code",
   "execution_count": 1,
   "id": "1f79e4a6",
   "metadata": {},
   "outputs": [],
   "source": [
    "import numpy as np"
   ]
  },
  {
   "cell_type": "markdown",
   "id": "7dae6889",
   "metadata": {},
   "source": [
    "### Print out the dimension (number of axes), shape, size and the datatype of the matrix A."
   ]
  },
  {
   "cell_type": "code",
   "execution_count": 2,
   "id": "7b3678cd",
   "metadata": {},
   "outputs": [
    {
     "data": {
      "text/plain": [
       "dtype('int64')"
      ]
     },
     "execution_count": 2,
     "metadata": {},
     "output_type": "execute_result"
    }
   ],
   "source": [
    "A = np.arange(1, 16).reshape(3,5)\n",
    "A.ndim\n",
    "A.shape\n",
    "A.size\n",
    "A.dtype\n"
   ]
  },
  {
   "cell_type": "code",
   "execution_count": null,
   "id": "31d39235",
   "metadata": {},
   "outputs": [],
   "source": []
  },
  {
   "cell_type": "markdown",
   "id": "e56d2a96",
   "metadata": {},
   "source": [
    "### Do the following computations on the matrices B and C: \n",
    "* Elementwise subtraction. \n",
    "* Elementwise multiplication. \n",
    "* Matrix multiplication (by default you should use the @ operator)."
   ]
  },
  {
   "cell_type": "code",
   "execution_count": 17,
   "id": "a7053fbb",
   "metadata": {},
   "outputs": [
    {
     "name": "stdout",
     "output_type": "stream",
     "text": [
      "[[1 2]\n",
      " [3 4]]\n",
      "[[2. 2. 2.]\n",
      " [2. 2. 2.]\n",
      " [2. 2. 2.]]\n",
      "[[ 1.  0. -1.]\n",
      " [-2. -3. -4.]\n",
      " [-5. -6. -7.]]\n",
      "[[ 2.  4.  6.]\n",
      " [ 8. 10. 12.]\n",
      " [14. 16. 18.]]\n",
      "[[12. 12. 12.]\n",
      " [30. 30. 30.]\n",
      " [48. 48. 48.]]\n"
     ]
    }
   ],
   "source": [
    "B = np.arange(1, 10).reshape(3, 3)\n",
    "C = np.ones((3, 3))*2\n",
    "\n",
    "\n",
    "print(A)\n",
    "print(C)\n",
    "print(C-B)\n",
    "print(B * C)\n",
    "print(B @ C)\n",
    "\n"
   ]
  },
  {
   "cell_type": "code",
   "execution_count": null,
   "id": "3cd794ae",
   "metadata": {},
   "outputs": [],
   "source": []
  },
  {
   "cell_type": "markdown",
   "id": "96030d53",
   "metadata": {},
   "source": [
    "### Do the following calculations on the matrix:\n",
    "* Exponentiate each number elementwise (use the np.exp function).\n",
    "\n",
    "* Calculate the minimum value in the whole matrix. \n",
    "* Calculcate the minimum value in each row. \n",
    "* Calculcate the minimum value in each column. \n",
    "\n",
    "\n",
    "* Find the index value for the minimum value in the whole matrix (hint: use np.argmin).\n",
    "* Find the index value for the minimum value in each row (hint: use np.argmin).\n",
    "\n",
    "\n",
    "* Calculate the sum for all elements.\n",
    "* Calculate the mean for each column. \n",
    "* Calculate the median for each column. "
   ]
  },
  {
   "cell_type": "code",
   "execution_count": 4,
   "id": "f8a9166b",
   "metadata": {},
   "outputs": [
    {
     "name": "stdout",
     "output_type": "stream",
     "text": [
      "[[1 2 3]\n",
      " [4 5 6]\n",
      " [7 8 9]]\n",
      "[[2.71828183e+00 7.38905610e+00 2.00855369e+01]\n",
      " [5.45981500e+01 1.48413159e+02 4.03428793e+02]\n",
      " [1.09663316e+03 2.98095799e+03 8.10308393e+03]]\n",
      "1\n",
      "[1 4 7]\n",
      "[1 2 3]\n",
      "0\n",
      "[0 0 0]\n",
      "45\n",
      "[4. 5. 6.]\n",
      "[4. 5. 6.]\n"
     ]
    }
   ],
   "source": [
    "\n",
    "B = np.arange(1, 10).reshape(3, 3)\n",
    "Exponent_Value = np.exp(B)\n",
    "Min_value_Whole_Matrix = np.min(B)\n",
    "Min_value_row = np.min(B, axis=1)\n",
    "Min_value_column = np.min(B,axis=0)\n",
    "find_index_whole_matrix =np.argmin(B)\n",
    "index_mini_value_row = np.argmin(B, axis=1)\n",
    "sum_al_elements =B.sum()\n",
    "mean_each_column = np.mean(B,axis=0 )\n",
    "meadin_each_column = np.median(B,axis=0 )\n",
    "\n",
    "\n",
    "print(B)\n",
    "print(Exponent_Value)\n",
    "print(Min_value_Whole_Matrix)\n",
    "print(Min_value_row)\n",
    "print(Min_value_column)\n",
    "print(find_index_whole_matrix)\n",
    "print(index_mini_value_row)\n",
    "print(sum_al_elements)\n",
    "print(mean_each_column)\n",
    "print(meadin_each_column)"
   ]
  },
  {
   "cell_type": "code",
   "execution_count": null,
   "id": "f03f24f7",
   "metadata": {},
   "outputs": [],
   "source": []
  },
  {
   "cell_type": "markdown",
   "id": "541eb7ba",
   "metadata": {},
   "source": [
    "### What does it mean when you provide fewer indices than axes when slicing? See example below."
   ]
  },
  {
   "cell_type": "code",
   "execution_count": 5,
   "id": "9c8abf56",
   "metadata": {},
   "outputs": [
    {
     "name": "stdout",
     "output_type": "stream",
     "text": [
      "[[ 1  2  3  4  5]\n",
      " [ 6  7  8  9 10]\n",
      " [11 12 13 14 15]]\n"
     ]
    }
   ],
   "source": [
    "print(A)"
   ]
  },
  {
   "cell_type": "code",
   "execution_count": 6,
   "id": "69415f7b",
   "metadata": {},
   "outputs": [
    {
     "data": {
      "text/plain": [
       "array([ 6,  7,  8,  9, 10])"
      ]
     },
     "execution_count": 6,
     "metadata": {},
     "output_type": "execute_result"
    }
   ],
   "source": [
    "A[1]"
   ]
  },
  {
   "cell_type": "markdown",
   "id": "6c53541b",
   "metadata": {},
   "source": [
    "**Answer:**\n",
    "Numpy behandlar som ett tecken de saknade indexen på dimension"
   ]
  },
  {
   "cell_type": "code",
   "execution_count": null,
   "id": "de01e120",
   "metadata": {},
   "outputs": [],
   "source": []
  },
  {
   "cell_type": "markdown",
   "id": "6652d0c9",
   "metadata": {},
   "source": [
    "### Iterating over multidimensional arrays is done with respect to the first axis, so in the example below we iterate trough the rows. If you would like to iterate through the array *elementwise*, how would you do that?"
   ]
  },
  {
   "cell_type": "code",
   "execution_count": 7,
   "id": "9459864f",
   "metadata": {},
   "outputs": [
    {
     "data": {
      "text/plain": [
       "array([[ 1,  2,  3,  4,  5],\n",
       "       [ 6,  7,  8,  9, 10],\n",
       "       [11, 12, 13, 14, 15]])"
      ]
     },
     "execution_count": 7,
     "metadata": {},
     "output_type": "execute_result"
    }
   ],
   "source": [
    "A"
   ]
  },
  {
   "cell_type": "code",
   "execution_count": 8,
   "id": "a671bb5a",
   "metadata": {},
   "outputs": [
    {
     "name": "stdout",
     "output_type": "stream",
     "text": [
      "[1 2 3 4 5]\n",
      "[ 6  7  8  9 10]\n",
      "[11 12 13 14 15]\n"
     ]
    }
   ],
   "source": [
    "for i in A:\n",
    "    print(i)"
   ]
  },
  {
   "cell_type": "markdown",
   "id": "7b69c574",
   "metadata": {},
   "source": [
    "We can iterate elementwise through the entire array. We can use nditer function from numpy to allow element by element."
   ]
  },
  {
   "cell_type": "code",
   "execution_count": null,
   "id": "f4e443a0",
   "metadata": {},
   "outputs": [],
   "source": []
  },
  {
   "cell_type": "markdown",
   "id": "608a2583",
   "metadata": {},
   "source": [
    "### Explain what the code below does. More specifically, b has three axes - what does this mean? "
   ]
  },
  {
   "cell_type": "code",
   "execution_count": 9,
   "id": "f8f9b26f",
   "metadata": {},
   "outputs": [
    {
     "name": "stdout",
     "output_type": "stream",
     "text": [
      "[ 0  1  2  3  4  5  6  7  8  9 10 11 12 13 14 15 16 17 18 19 20 21 22 23\n",
      " 24 25 26 27 28 29]\n",
      "\n",
      "[[[ 0  1  2  3  4]\n",
      "  [ 5  6  7  8  9]\n",
      "  [10 11 12 13 14]]\n",
      "\n",
      " [[15 16 17 18 19]\n",
      "  [20 21 22 23 24]\n",
      "  [25 26 27 28 29]]]\n"
     ]
    }
   ],
   "source": [
    "a = np.arange(30)\n",
    "b = a.reshape((2, 3, -1))\n",
    "print(a)\n",
    "print()\n",
    "\n",
    "print(b)"
   ]
  },
  {
   "cell_type": "markdown",
   "id": "f89cdc12",
   "metadata": {},
   "source": [
    "a = np.arange(30) : Creates numpy array a with 0 to 29 ranging 30 elements.\n",
    "\n",
    "b = a.reshape((2, 3, -1)): reshape the a with 3 dimensional array b where 2 indicates first axis size of outer arraay. 3 indicate second axis size of three and and it contains three arrays. -1 indicate that numpy automatically calculate the size of third axis it depends of the how much elements of the array. in this case total elements 30 divided by 6(2*3). So column become 5.\n",
    "we can say reshape becomes (2, 3, 5).\n",
    "\n",
    "\n"
   ]
  },
  {
   "cell_type": "code",
   "execution_count": null,
   "id": "863a45df",
   "metadata": {},
   "outputs": [],
   "source": []
  },
  {
   "cell_type": "markdown",
   "id": "ab5933d5",
   "metadata": {},
   "source": [
    "### Broadcasting\n",
    "**Read the following link about broadcasting: https://numpy.org/doc/stable/user/basics.broadcasting.html#basics-broadcasting**"
   ]
  },
  {
   "cell_type": "markdown",
   "id": "039805ba",
   "metadata": {},
   "source": [
    "# Remark on Broadcasting when doing Linear Algebra calculations in Python. "
   ]
  },
  {
   "cell_type": "markdown",
   "id": "c4bcc147",
   "metadata": {},
   "source": [
    "### From the mathematical rules of matrix addition, the operation below (m1 + m2) does not make sense. The reason is that matrix addition requires two matrices of the same size. In Python however, it works due to broadcasting rules in NumPy. So you must be careful when doing Linear Algebra calculations in Python since they do not follow the \"mathematical rules\". This can however easily be handled by doing some simple programming, for example validating that two matrices have the same shape is easy if you for instance want to add two matrices. "
   ]
  },
  {
   "cell_type": "code",
   "execution_count": 10,
   "id": "1fd46778",
   "metadata": {},
   "outputs": [
    {
     "name": "stdout",
     "output_type": "stream",
     "text": [
      "[[2 3]\n",
      " [4 5]]\n"
     ]
    }
   ],
   "source": [
    "m1 = np.array([[1, 2], [3, 4]])\n",
    "m2 = np.array([1, 1])\n",
    "print(m1 + m2)"
   ]
  },
  {
   "cell_type": "markdown",
   "id": "047d6576",
   "metadata": {},
   "source": [
    "### The example below would also not be allowed if following the \"mathematical rules\" in Linear Algebra. But it works due to broadcasting in NumPy. "
   ]
  },
  {
   "cell_type": "code",
   "execution_count": 11,
   "id": "5e6ef2e4",
   "metadata": {},
   "outputs": [
    {
     "name": "stdout",
     "output_type": "stream",
     "text": [
      "[2 3 4]\n"
     ]
    }
   ],
   "source": [
    "v1 = np.array([1, 2, 3])\n",
    "print(v1 + 1)"
   ]
  },
  {
   "cell_type": "code",
   "execution_count": 12,
   "id": "e2cbae26",
   "metadata": {},
   "outputs": [
    {
     "name": "stdout",
     "output_type": "stream",
     "text": [
      "[[1 2]\n",
      " [3 4]]\n",
      "[2 2]\n"
     ]
    }
   ],
   "source": [
    "A = np.arange(1, 5).reshape(2,2)\n",
    "print(A)\n",
    "\n",
    "b = np.array([2, 2])\n",
    "print(b)"
   ]
  },
  {
   "cell_type": "markdown",
   "id": "722fd5cd",
   "metadata": {},
   "source": [
    "# Vector- and matrix algebra Exercises"
   ]
  },
  {
   "cell_type": "markdown",
   "id": "b63a3081-d976-4d9f-bfd0-a63917e79f7d",
   "metadata": {},
   "source": [
    "**Now you are going to create a function that can be reused every time you add or multiply matrices. The function is created so that we do the addition and multiplication according to the rules of vector- and matrix algebra.**\n",
    "\n",
    "**Create a function \"add_mult_matrices\" that takes two matrices as input arguments (validate that the input are of the type numpy.ndarray by using the isinstance function), a third argument that is either 'add' or 'multiply' that specifies if you want to add or multiply the matrices (validate that the third argument is either 'add' or 'multiply'). When doing matrix addition, validate that the matrices have the same size. When doing matrix multiplication, validate that the sizes conform (i.e. number of columns in the first matrix is equal to the number of rows in the second matrix).**"
   ]
  },
  {
   "cell_type": "code",
   "execution_count": 36,
   "id": "3506f977-ac0a-473f-85bc-eec9f35dc498",
   "metadata": {},
   "outputs": [
    {
     "name": "stdout",
     "output_type": "stream",
     "text": [
      "Addition[[ 60  80]\n",
      " [100 120]]\n",
      "Multiplication: [[1900 2200]\n",
      " [4300 5000]]\n"
     ]
    }
   ],
   "source": [
    "import numpy as np\n",
    "def add_mult_matrics(matrics_A, matrics_B, Sum_matrics):\n",
    "    \n",
    "    if not isinstance(matrics_A, np.ndarray) or not isinstance(matrics_B, np.ndarray):\n",
    "        raise TypeError(\"Please write the correct numpy array\")     \n",
    "    \n",
    "    if Sum_matrics == \"add\":\n",
    "        if matrics_A.shape != matrics_B.shape:\n",
    "            raise ValueError(\"value should be same size\")\n",
    "        return np.add(matrics_A,matrics_B)  \n",
    "    elif Sum_matrics == \"multiply\":\n",
    "        if matrics_A.shape[0] != matrics_B.shape[1]:\n",
    "            raise ValueError(\"number of column in first matrix should be equal\")            \n",
    "        return np.dot(matrics_A,matrics_B)\n",
    "    else:\n",
    "        raise ValueError(\"add / multiply\")\n",
    "    \n",
    "    \n",
    "    \n",
    "matrics_A = np.array([[10, 20], [30, 40]])\n",
    "matrics_B = np.array([[50, 60], [70, 80]])\n",
    "    \n",
    "Addition = add_mult_matrics(matrics_A, matrics_B,\"add\")\n",
    "print(f\"Addition{Addition}\")\n",
    "    \n",
    "Multiplication = add_mult_matrics(matrics_A,matrics_B,\"multiply\")\n",
    "print(f\"Multiplication: {Multiplication}\")\n",
    "    "
   ]
  },
  {
   "cell_type": "markdown",
   "id": "8dad82d0-2359-4dff-8f5b-a57d3e34103c",
   "metadata": {},
   "source": [
    "### Solve all the exercises in chapter 10.1 in the book \"Matematik för yrkeshögskolan\". "
   ]
  },
  {
   "cell_type": "markdown",
   "id": "dde3d673",
   "metadata": {},
   "source": [
    "Uppgift 10.1.1:\n",
    "a. vilken dimension har vektorn x?\n",
    "Svar:Vektorn har 2 dimension eftersom vektorn har 2 komponenter.\n",
    "\n",
    "b.Beräkna 5x.\n",
    "Svar:5x = 5.(4,3) = (20,15)\n",
    "\n",
    "c. Beräkna 3x.\n",
    "Svar: 3x = 3.(4,3) = (12,9)\n",
    "\n",
    "d. Beräkna 5x + 3x\n",
    "\n",
    "Svar: 5x + 3x = (20,15) + (12,9) = (32,24)\n",
    "\n",
    "e.Beräkna 8x.\n",
    "Svar: 8x = 8.(4,3) (32,24)\n",
    "\n",
    "f. Beräkna 4x-x\n",
    "Svar: 4x-x = 4.(4,3)- (4,3) = (16,12) - (4,3) =(12,9)\n",
    "\n",
    "g. Beräkna X^T, vilket blir nya dimensionen efter att transponeringen utförts?\n",
    "Svar: The vektor x = (4,3), Så ändrar det rad till kolumn vektor  x^T = 4/3. Så ny dimension blir 2X1 kolumn vektor.\n",
    "\n",
    "h. Är x + x^T definerat.\n",
    "Svar: Nej. Rad och kolumn vektors dimension matchar inte. Så Rad och kolumn vektor definerar inte i matrix.\n",
    "\n",
    "i. Beräkna ||x||.\n",
    "Svar: Root4^2 + Root3^2 = Root25 = 5\n",
    "\n",
    "\n",
    "\n",
    "10.1.2. Definera vektorn v enligt nedan.\n",
    "V = (3\n",
    "     7\n",
    "     0\n",
    "     11)\n",
    "\n",
    "a. Vilken dimension har vektorn v?\n",
    "Svar:Vektorn har 4 dimension eftersom vektorn har 4 komponenter.\n",
    "\n",
    "b.Beräkna 2v.\n",
    "2V = (6\n",
    "      14\n",
    "      0\n",
    "      22)\n",
    "\n",
    "c. Beräkna 5v + 2v\n",
    "Svar: 5v + 2v = (21\n",
    "                 49\n",
    "                 0\n",
    "                 77)\n",
    "\n",
    "d. Beräkna 4v- 2v\n",
    "Svar:           \n",
    "       4v-2v =  (6\n",
    "                 14\n",
    "                 0\n",
    "                 22)\n",
    "\n",
    "e.Beräkna V^T vilken blir nya dimension.\n",
    "Svar: V^T = (3,7,0,11)\n",
    "Ny dimension blir 1x4.\n",
    "\n",
    "f. Beräkna ||v||\n",
    "Svar: ||v|| = Root(3^2 + 7^2 + 11^2)= root(179)= 13.38\n",
    "\n",
    "\n",
    "Uppgift 10.1.3:\n",
    "\n",
    "a. Beräkna ||v1||.\n",
    "v1 = root(4^1 + 3^2 + 1.5^2) = root(27.25)=5.22\n",
    "\n",
    "b. Beräkna || v1 - v2||\n",
    "|| v1 - v2|| = root(4.16)~~2.04\n",
    "\n",
    "\n",
    "\n",
    "\n",
    "        \n",
    "\n",
    "\n",
    "\n"
   ]
  },
  {
   "cell_type": "code",
   "execution_count": null,
   "id": "89df88af-3668-4d98-a0a4-e6d92eea0f89",
   "metadata": {},
   "outputs": [],
   "source": []
  },
  {
   "cell_type": "markdown",
   "id": "75c98984-1f88-4df1-b850-d2466de444a5",
   "metadata": {},
   "source": [
    "### Solve all the exercises, except 10.2.4, in chapter 10.2 in the book \"Matematik för yrkeshögskolan\". "
   ]
  },
  {
   "cell_type": "markdown",
   "id": "f821e024",
   "metadata": {},
   "source": [
    "Uppgift 10.2.1. Definera matriserna.\n",
    "\n",
    "a. Svar:2A =2.(2  1  -1)\n",
    "          (1  1  1)\n",
    "          (-1  0  1)\n",
    "      \n",
    "       = (4   1   -2)\n",
    "        (2   2    2)\n",
    "        (-2  0    2)\n",
    "\n",
    "\n",
    "b. B-2A\n",
    "Svar: B är en 2 X 3 matris och 2A är 3 X 3 matris. Så vi kan inte räkna för detta är inte definerat.\n",
    "\n",
    "c. 3C -2E\n",
    "Svar:C är 2 x 2 matris och E är 1 X 1 vektor. Detta är inte definerat eftersom dimension matchar inte.\n",
    "\n",
    "d. 2D-3C\n",
    "Svar: 2D - 3c = (6  8)   -  (1.5 1.5)\n",
    "                (6  6)       (1.5 1.5)\n",
    "              \n",
    "\n",
    "              = (4.5   6.5)\n",
    "                (4.5   4.5)\n",
    "\n",
    "\n",
    "\n",
    "e. D^T + 2D \n",
    "Svar: D^T + 2D = (9   11)\n",
    "                 (10   9)\n",
    "\n",
    "\n",
    "\n",
    "\n",
    "f. 2C^T -2D^-1\n",
    "Svar: 2C^T -2D^-1 =  (3  -5/8)\n",
    "                     (-1    3)\n",
    "\n",
    "\n",
    "\n",
    "g.A^T - B\n",
    "\n",
    "Svar:A^T = ( 2   1   -1)\n",
    "           (1    1   0)\n",
    "           (-1   1    1)\n",
    "\n",
    "matris B är 2 X 3 och A^T 3 X 3. Så dimension matchar inte och detta är inte definerat."
   ]
  },
  {
   "cell_type": "code",
   "execution_count": null,
   "id": "65371610-16e1-48b2-b7fb-65e49002608a",
   "metadata": {},
   "outputs": [],
   "source": []
  },
  {
   "cell_type": "markdown",
   "id": "6cbbeaf7",
   "metadata": {},
   "source": [
    "**Basic indexing creates a view, How can you check if v1 and v2 is a view or copy? If you change the last element in v2 to 123, will the last element in v1 be changed? Why?**"
   ]
  },
  {
   "cell_type": "markdown",
   "id": "6a4a524f",
   "metadata": {},
   "source": [
    "### Copies and Views\n",
    "Read the following link: https://numpy.org/doc/stable/user/basics.copies.html"
   ]
  },
  {
   "cell_type": "code",
   "execution_count": 42,
   "id": "5b9ef4df",
   "metadata": {},
   "outputs": [
    {
     "name": "stdout",
     "output_type": "stream",
     "text": [
      "[0 1 2 3]\n",
      "[2 3]\n"
     ]
    }
   ],
   "source": [
    "v1 = np.arange(4)\n",
    "v2 = v1[-2:]\n",
    "print(v1)\n",
    "print(v2)"
   ]
  },
  {
   "cell_type": "code",
   "execution_count": 43,
   "id": "d2440489",
   "metadata": {},
   "outputs": [
    {
     "name": "stdout",
     "output_type": "stream",
     "text": [
      "None\n",
      "[0 1 2 3]\n",
      "False\n",
      "True\n"
     ]
    }
   ],
   "source": [
    "# The base attribute of a view returns the original array while it returns None for a copy.\n",
    "print(v1.base)\n",
    "print(v2.base)\n",
    "print(v2.base is None)\n",
    "print(v1.base is None)"
   ]
  },
  {
   "cell_type": "code",
   "execution_count": 15,
   "id": "c8752807",
   "metadata": {},
   "outputs": [
    {
     "name": "stdout",
     "output_type": "stream",
     "text": [
      "[  0   1   2 123]\n",
      "[  2 123]\n"
     ]
    }
   ],
   "source": [
    "# The last element in v1 will be changed aswell since v2 is a view, meaning they share the same data buffer.\n",
    "v2[-1] = 123\n",
    "print(v1)\n",
    "print(v2)"
   ]
  },
  {
   "cell_type": "code",
   "execution_count": null,
   "id": "3dd68221",
   "metadata": {},
   "outputs": [],
   "source": []
  }
 ],
 "metadata": {
  "kernelspec": {
   "display_name": "venv",
   "language": "python",
   "name": "python3"
  },
  "language_info": {
   "codemirror_mode": {
    "name": "ipython",
    "version": 3
   },
   "file_extension": ".py",
   "mimetype": "text/x-python",
   "name": "python",
   "nbconvert_exporter": "python",
   "pygments_lexer": "ipython3",
   "version": "3.12.6"
  }
 },
 "nbformat": 4,
 "nbformat_minor": 5
}
